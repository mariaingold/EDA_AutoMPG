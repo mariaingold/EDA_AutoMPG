{
  "cells": [
    {
      "cell_type": "markdown",
      "metadata": {
        "_uuid": "180b0071b029d87539564d7d5dc9196a03965380",
        "id": "gWlcjrUHdx7S"
      },
      "source": [
        "# Auto MPG Exploratory Data Analysis\n",
        "\n",
        "## Author: Maria Ingold\n",
        "\n",
        "UoEO Machine Learning\n",
        "Assignment Date: 5 November, 2024"
      ]
    },
    {
      "cell_type": "markdown",
      "source": [],
      "metadata": {
        "id": "0NkxwJlZoCs-"
      }
    },
    {
      "cell_type": "markdown",
      "metadata": {
        "_uuid": "7414eb7c900e2d4546a4b3d108ce11fddee44e57",
        "id": "kx0Ab-EMdx7V"
      },
      "source": [
        "## Import Libraries"
      ]
    },
    {
      "cell_type": "code",
      "execution_count": null,
      "metadata": {
        "_cell_guid": "a9e1c407-125d-4a92-a5d8-93d383b5fca0",
        "_kg_hide-input": true,
        "_uuid": "46972c9825af86d41d2eedbbab57ea95956f05ba",
        "colab": {
          "base_uri": "https://localhost:8080/"
        },
        "id": "bYZZWyZUdx7W",
        "outputId": "290914d6-f821-4204-e42c-2433037c855d"
      },
      "outputs": [
        {
          "output_type": "stream",
          "name": "stdout",
          "text": [
            "Requirement already satisfied: scikit-learn in /usr/local/lib/python3.10/dist-packages (1.5.2)\n",
            "Requirement already satisfied: numpy>=1.19.5 in /usr/local/lib/python3.10/dist-packages (from scikit-learn) (1.26.4)\n",
            "Requirement already satisfied: scipy>=1.6.0 in /usr/local/lib/python3.10/dist-packages (from scikit-learn) (1.13.1)\n",
            "Requirement already satisfied: joblib>=1.2.0 in /usr/local/lib/python3.10/dist-packages (from scikit-learn) (1.4.2)\n",
            "Requirement already satisfied: threadpoolctl>=3.1.0 in /usr/local/lib/python3.10/dist-packages (from scikit-learn) (3.5.0)\n"
          ]
        }
      ],
      "source": [
        "import pandas as pd\n",
        "import numpy as np\n",
        "import matplotlib as mpl\n",
        "import matplotlib.pyplot as plt\n",
        "%matplotlib inline\n",
        "import seaborn as sns\n",
        "!pip install scikit-learn\n",
        "import scipy.stats as st\n",
        "from sklearn import ensemble, tree, linear_model\n",
        "import missingno as msno"
      ]
    },
    {
      "cell_type": "markdown",
      "metadata": {
        "_uuid": "73e8b7366d53b79de9299b0704d97812c91edb77",
        "id": "p_8jDCN0dx7Y"
      },
      "source": [
        "## Import Data\n",
        "\n",
        "Manually upload file into Session Storage in Google Colab\n",
        "\n",
        "## Read Data"
      ]
    },
    {
      "cell_type": "code",
      "execution_count": null,
      "metadata": {
        "_cell_guid": "fdef65e6-1a5f-414d-86be-4f1c26019efa",
        "_kg_hide-input": true,
        "_uuid": "a4e8a61875e410af47250d576791e4247a4e29ba",
        "id": "WDF_SMbgdx7Z"
      },
      "outputs": [],
      "source": [
        "auto_mpg = pd.read_csv(\"2_auto-mpg.csv\")"
      ]
    },
    {
      "cell_type": "markdown",
      "metadata": {
        "_uuid": "26c407890e7e155f7d4f6852c9a2138e7de7d101",
        "id": "8Z-rZ7o9dx7Z"
      },
      "source": [
        "## Basic Descriptions\n",
        "### 5-Figure Summary per column"
      ]
    },
    {
      "cell_type": "code",
      "execution_count": 4,
      "metadata": {
        "_kg_hide-input": true,
        "_uuid": "18f9780ebca993edf98313d743e5ac91a093a7fe",
        "id": "3OXxsydedx7a",
        "outputId": "c6915466-00ba-4716-cd9c-9a439abe9f76",
        "colab": {
          "base_uri": "https://localhost:8080/",
          "height": 300
        }
      },
      "outputs": [
        {
          "output_type": "execute_result",
          "data": {
            "text/plain": [
              "              mpg   cylinders  displacement       weight  acceleration  \\\n",
              "count  398.000000  398.000000    398.000000   398.000000    398.000000   \n",
              "mean    23.514573    5.454774    193.425879  2970.424623     15.568090   \n",
              "std      7.815984    1.701004    104.269838   846.841774      2.757689   \n",
              "min      9.000000    3.000000     68.000000  1613.000000      8.000000   \n",
              "25%     17.500000    4.000000    104.250000  2223.750000     13.825000   \n",
              "50%     23.000000    4.000000    148.500000  2803.500000     15.500000   \n",
              "75%     29.000000    8.000000    262.000000  3608.000000     17.175000   \n",
              "max     46.600000    8.000000    455.000000  5140.000000     24.800000   \n",
              "\n",
              "       model year      origin  \n",
              "count  398.000000  398.000000  \n",
              "mean    76.010050    1.572864  \n",
              "std      3.697627    0.802055  \n",
              "min     70.000000    1.000000  \n",
              "25%     73.000000    1.000000  \n",
              "50%     76.000000    1.000000  \n",
              "75%     79.000000    2.000000  \n",
              "max     82.000000    3.000000  "
            ],
            "text/html": [
              "\n",
              "  <div id=\"df-7fc57a06-b3ac-4179-81b7-b0e1a5ff84d9\" class=\"colab-df-container\">\n",
              "    <div>\n",
              "<style scoped>\n",
              "    .dataframe tbody tr th:only-of-type {\n",
              "        vertical-align: middle;\n",
              "    }\n",
              "\n",
              "    .dataframe tbody tr th {\n",
              "        vertical-align: top;\n",
              "    }\n",
              "\n",
              "    .dataframe thead th {\n",
              "        text-align: right;\n",
              "    }\n",
              "</style>\n",
              "<table border=\"1\" class=\"dataframe\">\n",
              "  <thead>\n",
              "    <tr style=\"text-align: right;\">\n",
              "      <th></th>\n",
              "      <th>mpg</th>\n",
              "      <th>cylinders</th>\n",
              "      <th>displacement</th>\n",
              "      <th>weight</th>\n",
              "      <th>acceleration</th>\n",
              "      <th>model year</th>\n",
              "      <th>origin</th>\n",
              "    </tr>\n",
              "  </thead>\n",
              "  <tbody>\n",
              "    <tr>\n",
              "      <th>count</th>\n",
              "      <td>398.000000</td>\n",
              "      <td>398.000000</td>\n",
              "      <td>398.000000</td>\n",
              "      <td>398.000000</td>\n",
              "      <td>398.000000</td>\n",
              "      <td>398.000000</td>\n",
              "      <td>398.000000</td>\n",
              "    </tr>\n",
              "    <tr>\n",
              "      <th>mean</th>\n",
              "      <td>23.514573</td>\n",
              "      <td>5.454774</td>\n",
              "      <td>193.425879</td>\n",
              "      <td>2970.424623</td>\n",
              "      <td>15.568090</td>\n",
              "      <td>76.010050</td>\n",
              "      <td>1.572864</td>\n",
              "    </tr>\n",
              "    <tr>\n",
              "      <th>std</th>\n",
              "      <td>7.815984</td>\n",
              "      <td>1.701004</td>\n",
              "      <td>104.269838</td>\n",
              "      <td>846.841774</td>\n",
              "      <td>2.757689</td>\n",
              "      <td>3.697627</td>\n",
              "      <td>0.802055</td>\n",
              "    </tr>\n",
              "    <tr>\n",
              "      <th>min</th>\n",
              "      <td>9.000000</td>\n",
              "      <td>3.000000</td>\n",
              "      <td>68.000000</td>\n",
              "      <td>1613.000000</td>\n",
              "      <td>8.000000</td>\n",
              "      <td>70.000000</td>\n",
              "      <td>1.000000</td>\n",
              "    </tr>\n",
              "    <tr>\n",
              "      <th>25%</th>\n",
              "      <td>17.500000</td>\n",
              "      <td>4.000000</td>\n",
              "      <td>104.250000</td>\n",
              "      <td>2223.750000</td>\n",
              "      <td>13.825000</td>\n",
              "      <td>73.000000</td>\n",
              "      <td>1.000000</td>\n",
              "    </tr>\n",
              "    <tr>\n",
              "      <th>50%</th>\n",
              "      <td>23.000000</td>\n",
              "      <td>4.000000</td>\n",
              "      <td>148.500000</td>\n",
              "      <td>2803.500000</td>\n",
              "      <td>15.500000</td>\n",
              "      <td>76.000000</td>\n",
              "      <td>1.000000</td>\n",
              "    </tr>\n",
              "    <tr>\n",
              "      <th>75%</th>\n",
              "      <td>29.000000</td>\n",
              "      <td>8.000000</td>\n",
              "      <td>262.000000</td>\n",
              "      <td>3608.000000</td>\n",
              "      <td>17.175000</td>\n",
              "      <td>79.000000</td>\n",
              "      <td>2.000000</td>\n",
              "    </tr>\n",
              "    <tr>\n",
              "      <th>max</th>\n",
              "      <td>46.600000</td>\n",
              "      <td>8.000000</td>\n",
              "      <td>455.000000</td>\n",
              "      <td>5140.000000</td>\n",
              "      <td>24.800000</td>\n",
              "      <td>82.000000</td>\n",
              "      <td>3.000000</td>\n",
              "    </tr>\n",
              "  </tbody>\n",
              "</table>\n",
              "</div>\n",
              "    <div class=\"colab-df-buttons\">\n",
              "\n",
              "  <div class=\"colab-df-container\">\n",
              "    <button class=\"colab-df-convert\" onclick=\"convertToInteractive('df-7fc57a06-b3ac-4179-81b7-b0e1a5ff84d9')\"\n",
              "            title=\"Convert this dataframe to an interactive table.\"\n",
              "            style=\"display:none;\">\n",
              "\n",
              "  <svg xmlns=\"http://www.w3.org/2000/svg\" height=\"24px\" viewBox=\"0 -960 960 960\">\n",
              "    <path d=\"M120-120v-720h720v720H120Zm60-500h600v-160H180v160Zm220 220h160v-160H400v160Zm0 220h160v-160H400v160ZM180-400h160v-160H180v160Zm440 0h160v-160H620v160ZM180-180h160v-160H180v160Zm440 0h160v-160H620v160Z\"/>\n",
              "  </svg>\n",
              "    </button>\n",
              "\n",
              "  <style>\n",
              "    .colab-df-container {\n",
              "      display:flex;\n",
              "      gap: 12px;\n",
              "    }\n",
              "\n",
              "    .colab-df-convert {\n",
              "      background-color: #E8F0FE;\n",
              "      border: none;\n",
              "      border-radius: 50%;\n",
              "      cursor: pointer;\n",
              "      display: none;\n",
              "      fill: #1967D2;\n",
              "      height: 32px;\n",
              "      padding: 0 0 0 0;\n",
              "      width: 32px;\n",
              "    }\n",
              "\n",
              "    .colab-df-convert:hover {\n",
              "      background-color: #E2EBFA;\n",
              "      box-shadow: 0px 1px 2px rgba(60, 64, 67, 0.3), 0px 1px 3px 1px rgba(60, 64, 67, 0.15);\n",
              "      fill: #174EA6;\n",
              "    }\n",
              "\n",
              "    .colab-df-buttons div {\n",
              "      margin-bottom: 4px;\n",
              "    }\n",
              "\n",
              "    [theme=dark] .colab-df-convert {\n",
              "      background-color: #3B4455;\n",
              "      fill: #D2E3FC;\n",
              "    }\n",
              "\n",
              "    [theme=dark] .colab-df-convert:hover {\n",
              "      background-color: #434B5C;\n",
              "      box-shadow: 0px 1px 3px 1px rgba(0, 0, 0, 0.15);\n",
              "      filter: drop-shadow(0px 1px 2px rgba(0, 0, 0, 0.3));\n",
              "      fill: #FFFFFF;\n",
              "    }\n",
              "  </style>\n",
              "\n",
              "    <script>\n",
              "      const buttonEl =\n",
              "        document.querySelector('#df-7fc57a06-b3ac-4179-81b7-b0e1a5ff84d9 button.colab-df-convert');\n",
              "      buttonEl.style.display =\n",
              "        google.colab.kernel.accessAllowed ? 'block' : 'none';\n",
              "\n",
              "      async function convertToInteractive(key) {\n",
              "        const element = document.querySelector('#df-7fc57a06-b3ac-4179-81b7-b0e1a5ff84d9');\n",
              "        const dataTable =\n",
              "          await google.colab.kernel.invokeFunction('convertToInteractive',\n",
              "                                                    [key], {});\n",
              "        if (!dataTable) return;\n",
              "\n",
              "        const docLinkHtml = 'Like what you see? Visit the ' +\n",
              "          '<a target=\"_blank\" href=https://colab.research.google.com/notebooks/data_table.ipynb>data table notebook</a>'\n",
              "          + ' to learn more about interactive tables.';\n",
              "        element.innerHTML = '';\n",
              "        dataTable['output_type'] = 'display_data';\n",
              "        await google.colab.output.renderOutput(dataTable, element);\n",
              "        const docLink = document.createElement('div');\n",
              "        docLink.innerHTML = docLinkHtml;\n",
              "        element.appendChild(docLink);\n",
              "      }\n",
              "    </script>\n",
              "  </div>\n",
              "\n",
              "\n",
              "<div id=\"df-e70becef-dd74-40cd-b4fe-1aa534799c9d\">\n",
              "  <button class=\"colab-df-quickchart\" onclick=\"quickchart('df-e70becef-dd74-40cd-b4fe-1aa534799c9d')\"\n",
              "            title=\"Suggest charts\"\n",
              "            style=\"display:none;\">\n",
              "\n",
              "<svg xmlns=\"http://www.w3.org/2000/svg\" height=\"24px\"viewBox=\"0 0 24 24\"\n",
              "     width=\"24px\">\n",
              "    <g>\n",
              "        <path d=\"M19 3H5c-1.1 0-2 .9-2 2v14c0 1.1.9 2 2 2h14c1.1 0 2-.9 2-2V5c0-1.1-.9-2-2-2zM9 17H7v-7h2v7zm4 0h-2V7h2v10zm4 0h-2v-4h2v4z\"/>\n",
              "    </g>\n",
              "</svg>\n",
              "  </button>\n",
              "\n",
              "<style>\n",
              "  .colab-df-quickchart {\n",
              "      --bg-color: #E8F0FE;\n",
              "      --fill-color: #1967D2;\n",
              "      --hover-bg-color: #E2EBFA;\n",
              "      --hover-fill-color: #174EA6;\n",
              "      --disabled-fill-color: #AAA;\n",
              "      --disabled-bg-color: #DDD;\n",
              "  }\n",
              "\n",
              "  [theme=dark] .colab-df-quickchart {\n",
              "      --bg-color: #3B4455;\n",
              "      --fill-color: #D2E3FC;\n",
              "      --hover-bg-color: #434B5C;\n",
              "      --hover-fill-color: #FFFFFF;\n",
              "      --disabled-bg-color: #3B4455;\n",
              "      --disabled-fill-color: #666;\n",
              "  }\n",
              "\n",
              "  .colab-df-quickchart {\n",
              "    background-color: var(--bg-color);\n",
              "    border: none;\n",
              "    border-radius: 50%;\n",
              "    cursor: pointer;\n",
              "    display: none;\n",
              "    fill: var(--fill-color);\n",
              "    height: 32px;\n",
              "    padding: 0;\n",
              "    width: 32px;\n",
              "  }\n",
              "\n",
              "  .colab-df-quickchart:hover {\n",
              "    background-color: var(--hover-bg-color);\n",
              "    box-shadow: 0 1px 2px rgba(60, 64, 67, 0.3), 0 1px 3px 1px rgba(60, 64, 67, 0.15);\n",
              "    fill: var(--button-hover-fill-color);\n",
              "  }\n",
              "\n",
              "  .colab-df-quickchart-complete:disabled,\n",
              "  .colab-df-quickchart-complete:disabled:hover {\n",
              "    background-color: var(--disabled-bg-color);\n",
              "    fill: var(--disabled-fill-color);\n",
              "    box-shadow: none;\n",
              "  }\n",
              "\n",
              "  .colab-df-spinner {\n",
              "    border: 2px solid var(--fill-color);\n",
              "    border-color: transparent;\n",
              "    border-bottom-color: var(--fill-color);\n",
              "    animation:\n",
              "      spin 1s steps(1) infinite;\n",
              "  }\n",
              "\n",
              "  @keyframes spin {\n",
              "    0% {\n",
              "      border-color: transparent;\n",
              "      border-bottom-color: var(--fill-color);\n",
              "      border-left-color: var(--fill-color);\n",
              "    }\n",
              "    20% {\n",
              "      border-color: transparent;\n",
              "      border-left-color: var(--fill-color);\n",
              "      border-top-color: var(--fill-color);\n",
              "    }\n",
              "    30% {\n",
              "      border-color: transparent;\n",
              "      border-left-color: var(--fill-color);\n",
              "      border-top-color: var(--fill-color);\n",
              "      border-right-color: var(--fill-color);\n",
              "    }\n",
              "    40% {\n",
              "      border-color: transparent;\n",
              "      border-right-color: var(--fill-color);\n",
              "      border-top-color: var(--fill-color);\n",
              "    }\n",
              "    60% {\n",
              "      border-color: transparent;\n",
              "      border-right-color: var(--fill-color);\n",
              "    }\n",
              "    80% {\n",
              "      border-color: transparent;\n",
              "      border-right-color: var(--fill-color);\n",
              "      border-bottom-color: var(--fill-color);\n",
              "    }\n",
              "    90% {\n",
              "      border-color: transparent;\n",
              "      border-bottom-color: var(--fill-color);\n",
              "    }\n",
              "  }\n",
              "</style>\n",
              "\n",
              "  <script>\n",
              "    async function quickchart(key) {\n",
              "      const quickchartButtonEl =\n",
              "        document.querySelector('#' + key + ' button');\n",
              "      quickchartButtonEl.disabled = true;  // To prevent multiple clicks.\n",
              "      quickchartButtonEl.classList.add('colab-df-spinner');\n",
              "      try {\n",
              "        const charts = await google.colab.kernel.invokeFunction(\n",
              "            'suggestCharts', [key], {});\n",
              "      } catch (error) {\n",
              "        console.error('Error during call to suggestCharts:', error);\n",
              "      }\n",
              "      quickchartButtonEl.classList.remove('colab-df-spinner');\n",
              "      quickchartButtonEl.classList.add('colab-df-quickchart-complete');\n",
              "    }\n",
              "    (() => {\n",
              "      let quickchartButtonEl =\n",
              "        document.querySelector('#df-e70becef-dd74-40cd-b4fe-1aa534799c9d button');\n",
              "      quickchartButtonEl.style.display =\n",
              "        google.colab.kernel.accessAllowed ? 'block' : 'none';\n",
              "    })();\n",
              "  </script>\n",
              "</div>\n",
              "\n",
              "    </div>\n",
              "  </div>\n"
            ],
            "application/vnd.google.colaboratory.intrinsic+json": {
              "type": "dataframe",
              "summary": "{\n  \"name\": \"auto_mpg\",\n  \"rows\": 8,\n  \"fields\": [\n    {\n      \"column\": \"mpg\",\n      \"properties\": {\n        \"dtype\": \"number\",\n        \"std\": 133.37523833494922,\n        \"min\": 7.815984312565782,\n        \"max\": 398.0,\n        \"num_unique_values\": 8,\n        \"samples\": [\n          23.514572864321607,\n          23.0,\n          398.0\n        ],\n        \"semantic_type\": \"\",\n        \"description\": \"\"\n      }\n    },\n    {\n      \"column\": \"cylinders\",\n      \"properties\": {\n        \"dtype\": \"number\",\n        \"std\": 139.0071020301553,\n        \"min\": 1.7010042445332094,\n        \"max\": 398.0,\n        \"num_unique_values\": 6,\n        \"samples\": [\n          398.0,\n          5.454773869346734,\n          8.0\n        ],\n        \"semantic_type\": \"\",\n        \"description\": \"\"\n      }\n    },\n    {\n      \"column\": \"displacement\",\n      \"properties\": {\n        \"dtype\": \"number\",\n        \"std\": 143.57617465667641,\n        \"min\": 68.0,\n        \"max\": 455.0,\n        \"num_unique_values\": 8,\n        \"samples\": [\n          193.42587939698493,\n          148.5,\n          398.0\n        ],\n        \"semantic_type\": \"\",\n        \"description\": \"\"\n      }\n    },\n    {\n      \"column\": \"weight\",\n      \"properties\": {\n        \"dtype\": \"number\",\n        \"std\": 1535.5522437115258,\n        \"min\": 398.0,\n        \"max\": 5140.0,\n        \"num_unique_values\": 8,\n        \"samples\": [\n          2970.424623115578,\n          2803.5,\n          398.0\n        ],\n        \"semantic_type\": \"\",\n        \"description\": \"\"\n      }\n    },\n    {\n      \"column\": \"acceleration\",\n      \"properties\": {\n        \"dtype\": \"number\",\n        \"std\": 135.93788360342714,\n        \"min\": 2.7576889298126757,\n        \"max\": 398.0,\n        \"num_unique_values\": 8,\n        \"samples\": [\n          15.568090452261307,\n          15.5,\n          398.0\n        ],\n        \"semantic_type\": \"\",\n        \"description\": \"\"\n      }\n    },\n    {\n      \"column\": \"model year\",\n      \"properties\": {\n        \"dtype\": \"number\",\n        \"std\": 120.24225119423292,\n        \"min\": 3.697626646732623,\n        \"max\": 398.0,\n        \"num_unique_values\": 8,\n        \"samples\": [\n          76.01005025125629,\n          76.0,\n          398.0\n        ],\n        \"semantic_type\": \"\",\n        \"description\": \"\"\n      }\n    },\n    {\n      \"column\": \"origin\",\n      \"properties\": {\n        \"dtype\": \"number\",\n        \"std\": 140.19214256834297,\n        \"min\": 0.8020548777266163,\n        \"max\": 398.0,\n        \"num_unique_values\": 6,\n        \"samples\": [\n          398.0,\n          1.5728643216080402,\n          3.0\n        ],\n        \"semantic_type\": \"\",\n        \"description\": \"\"\n      }\n    }\n  ]\n}"
            }
          },
          "metadata": {},
          "execution_count": 4
        }
      ],
      "source": [
        "auto_mpg.describe()"
      ]
    },
    {
      "cell_type": "markdown",
      "metadata": {
        "_uuid": "f7acab16176a0cd1711a98d3762fd363513de1a7",
        "id": "yK0vAcexdx7a"
      },
      "source": [
        "Now that you have got a general idea about your data set, it’s also a good idea to take a closer look at the data itself. With the help of the head() and tail() functions of the Pandas library, you can easily check out the first and last lines of your DataFrame, respectively.\n",
        "\n",
        "Let us look at some sample data"
      ]
    },
    {
      "cell_type": "code",
      "execution_count": null,
      "metadata": {
        "_cell_guid": "98a867ec-3d5f-4031-a1ea-605ef11c3fea",
        "_kg_hide-input": true,
        "_uuid": "59ab0313dce89149f7d009de38f52aa7bf2cbb45",
        "id": "7koGxV3Ydx7b"
      },
      "outputs": [],
      "source": [
        "train.head()"
      ]
    },
    {
      "cell_type": "code",
      "execution_count": null,
      "metadata": {
        "_kg_hide-input": false,
        "_uuid": "3a41f42d412b2187aec174d34cc0ff09804e1d0b",
        "id": "tFm2Pe7sdx7b"
      },
      "outputs": [],
      "source": [
        "train.tail()"
      ]
    },
    {
      "cell_type": "code",
      "execution_count": null,
      "metadata": {
        "_cell_guid": "60adf879-2079-4232-95e5-c57d7d6873e9",
        "_kg_hide-input": true,
        "_uuid": "34b223303c843ef1c078858f1ec9ad88c4a71da0",
        "id": "W4vUaPCHdx7c"
      },
      "outputs": [],
      "source": [
        "train.shape , test.shape"
      ]
    },
    {
      "cell_type": "markdown",
      "metadata": {
        "_uuid": "cb45721d9c3774d4110fd9967fcbeaa1428c3814",
        "id": "gphdrSCodx7c"
      },
      "source": [
        "Let us examine numerical features in the train dataset"
      ]
    },
    {
      "cell_type": "code",
      "execution_count": null,
      "metadata": {
        "_cell_guid": "647c4799-8797-4c36-8961-54c16bd50f50",
        "_kg_hide-input": true,
        "_uuid": "c98144abed702dee56ff5c1df6706721aef22751",
        "id": "mVmhaSjRdx7c"
      },
      "outputs": [],
      "source": [
        "numeric_features = train.select_dtypes(include=[np.number])\n",
        "\n",
        "numeric_features.columns"
      ]
    },
    {
      "cell_type": "markdown",
      "metadata": {
        "_uuid": "1e3a0fa9c8694320bc3825d72548a225181af3a5",
        "id": "St5IBFITdx7d"
      },
      "source": [
        "Let us examine categorical features in the train dataset"
      ]
    },
    {
      "cell_type": "code",
      "execution_count": null,
      "metadata": {
        "_cell_guid": "53d65b9c-96d0-427f-9e1f-4f31ff45f75c",
        "_kg_hide-input": true,
        "_uuid": "fb471042559958b213e44358c93dc64f768efd6c",
        "id": "bzr_w_Lwdx7d"
      },
      "outputs": [],
      "source": [
        "categorical_features = train.select_dtypes(include=[np.object])\n",
        "categorical_features.columns"
      ]
    },
    {
      "cell_type": "markdown",
      "metadata": {
        "_uuid": "ee64a2157db2e7598bde6c2f37a2df5f8b85f234",
        "id": "LsDL0IpMdx7d"
      },
      "source": [
        "Visualising missing values for a sample of 250"
      ]
    },
    {
      "cell_type": "code",
      "execution_count": null,
      "metadata": {
        "_kg_hide-input": true,
        "_uuid": "1ec01cb6be98d71a235d2c129aeaace197ca7dbd",
        "id": "KoiEXUyqdx7e"
      },
      "outputs": [],
      "source": [
        "msno.matrix(train.sample(250))"
      ]
    },
    {
      "cell_type": "markdown",
      "metadata": {
        "_uuid": "ae9610917fb6fe2ca8f46bd38fd26e4eedf7288d",
        "id": "CyQ979wMdx7e"
      },
      "source": [
        "#### Heatmap\n",
        "\n",
        "The **missingno** correlation heatmap measures nullity correlation: how strongly the presence or absence of one variable affects the presence of another:"
      ]
    },
    {
      "cell_type": "code",
      "execution_count": null,
      "metadata": {
        "_kg_hide-input": true,
        "_uuid": "fde026e87940e9287f35e917db4fe9ee293e2098",
        "id": "HOIsJgwwdx7e"
      },
      "outputs": [],
      "source": [
        "msno.heatmap(train)"
      ]
    },
    {
      "cell_type": "code",
      "execution_count": null,
      "metadata": {
        "_kg_hide-input": true,
        "_uuid": "5bd640d47b9dc1d4fc9f6d96ebfda20c80371d50",
        "id": "Cxu8PMo5dx7f"
      },
      "outputs": [],
      "source": [
        "msno.bar(train.sample(1000))"
      ]
    },
    {
      "cell_type": "markdown",
      "metadata": {
        "_uuid": "2df6364b163c0c49ec7e9b5276ffa5ec84c0fead",
        "id": "Jktrn6JQdx7f"
      },
      "source": [
        "#### Dendrogram\n",
        "\n",
        "The dendrogram allows you to more fully correlate variable completion, revealing trends deeper than the pairwise ones visible in the correlation heatmap:"
      ]
    },
    {
      "cell_type": "code",
      "execution_count": null,
      "metadata": {
        "_kg_hide-input": true,
        "_uuid": "974300229c4a7b60130457c53b19e5add20d3c02",
        "id": "2KPDJwi2dx7f"
      },
      "outputs": [],
      "source": [
        "msno.dendrogram(train)"
      ]
    },
    {
      "cell_type": "markdown",
      "metadata": {
        "_uuid": "796a9f4c96eb79c0a9100ae54a5a8d5b4c0f7c06",
        "id": "Jugl691cdx7f"
      },
      "source": [
        "The dendrogram uses a hierarchical clustering algorithm (courtesy of scipy) to bin variables against one another by their nullity correlation (measured in terms of binary distance). At each step of the tree the variables are split up based on which combination minimizes the distance of the remaining clusters. The more monotone the set of variables, the closer their total distance is to zero, and the closer their average distance (the y-axis) is to zero.\n",
        "\n",
        "To interpret this graph, read it from a top-down perspective. Cluster leaves which linked together at a distance of zero fully predict one another's presence—one variable might always be empty when another is filled, or they might always both be filled or both empty, and so on. In this specific example the dendrogram glues together the variables which are required and therefore present in every record.\n",
        "\n",
        "Cluster leaves which split close to zero, but not at it, predict one another very well, but still imperfectly. If your own interpretation of the dataset is that these columns actually are or ought to be match each other in nullity , then the height of the cluster leaf tells you, in absolute terms, how often the records are \"mismatched\" or incorrectly filed—that is, how many values you would have to fill in or drop, if you are so inclined.\n",
        "\n",
        "As with matrix, only up to 50 labeled columns will comfortably display in this configuration. However the dendrogram more elegantly handles extremely large datasets by simply flipping to a horizontal configuration."
      ]
    },
    {
      "cell_type": "markdown",
      "metadata": {
        "_cell_guid": "bb694f91-f30c-4e92-9825-28c226a1f963",
        "_uuid": "13bb98d74f848c68a44ab727f73ffff7663e28d7",
        "collapsed": true,
        "id": "EY5CjbRGdx7g"
      },
      "source": [
        "**The Challenges of Your Data**\n",
        "\n",
        "Now that we have gathered some basic information on your data, it’s a good idea to just go a little bit deeper into the challenges that the data might pose.\n",
        "\n",
        "There are two factors mostly observed in EDA exercise which are **missing values** and **outliers**\n",
        "For understanding in detail on how to handle missing values in detail please visit\n",
        "https://www.kaggle.com/pavansanagapati/simple-tutorial-on-how-to-handle-missing-data\n",
        "For determining the outliers boxplot is used in the later part of this kernel\n",
        "\n",
        "**Estimate Skewness and Kurtosis**"
      ]
    },
    {
      "cell_type": "code",
      "execution_count": null,
      "metadata": {
        "_cell_guid": "f37fdf5a-c4a7-4f58-a30b-812ae16f2531",
        "_kg_hide-input": true,
        "_uuid": "6c23e14e1d3b7b497a4edab7fbd7ee99ae35ce28",
        "id": "TUqH6ha0dx7g"
      },
      "outputs": [],
      "source": [
        "train.skew(), train.kurt()"
      ]
    },
    {
      "cell_type": "code",
      "execution_count": null,
      "metadata": {
        "_cell_guid": "36e9618c-6e28-47a7-a28e-28bfdc81deb2",
        "_kg_hide-input": true,
        "_uuid": "f126eef8b56b801cf8f149cf0a45f3325cc51d7e",
        "id": "T1P7TFp9dx7g"
      },
      "outputs": [],
      "source": [
        "y = train['SalePrice']\n",
        "plt.figure(1); plt.title('Johnson SU')\n",
        "sns.distplot(y, kde=False, fit=st.johnsonsu)\n",
        "plt.figure(2); plt.title('Normal')\n",
        "sns.distplot(y, kde=False, fit=st.norm)\n",
        "plt.figure(3); plt.title('Log Normal')\n",
        "sns.distplot(y, kde=False, fit=st.lognorm)"
      ]
    },
    {
      "cell_type": "markdown",
      "metadata": {
        "_cell_guid": "b518fe5e-0ffb-4401-8e00-bedcf9caf784",
        "_uuid": "566694b5562b27dd4218225b8a493f0ac2ac5168",
        "id": "1sxmSJiJdx7h"
      },
      "source": [
        "It is apparent that SalePrice doesn't follow normal distribution, so before performing regression it has to be transformed. While log transformation does pretty good job, best fit is unbounded Johnson distribution."
      ]
    },
    {
      "cell_type": "code",
      "execution_count": null,
      "metadata": {
        "_cell_guid": "ce00ec37-6d46-429b-a554-6346825cf63a",
        "_uuid": "ebe6847acfeec1ac098bb3412991589f4dbcac33",
        "id": "-6iNeFPEdx7h"
      },
      "outputs": [],
      "source": [
        "sns.distplot(train.skew(),color='blue',axlabel ='Skewness')"
      ]
    },
    {
      "cell_type": "code",
      "execution_count": null,
      "metadata": {
        "_cell_guid": "a53ce1db-2218-4875-a582-0b06b7696a9a",
        "_kg_hide-input": true,
        "_uuid": "4cdfa5c412260a98bae0e1495b79c5042ad4b90e",
        "id": "XIFYO3vfdx7h"
      },
      "outputs": [],
      "source": [
        "plt.figure(figsize = (12,8))\n",
        "sns.distplot(train.kurt(),color='r',axlabel ='Kurtosis',norm_hist= False, kde = True,rug = False)\n",
        "#plt.hist(train.kurt(),orientation = 'vertical',histtype = 'bar',label ='Kurtosis', color ='blue')\n",
        "plt.show()"
      ]
    },
    {
      "cell_type": "code",
      "execution_count": null,
      "metadata": {
        "_cell_guid": "b54fe84e-8c8b-4007-8ce3-4f69770062e8",
        "_kg_hide-input": true,
        "_uuid": "56f52accf94c7aaf86ae26d4c7a1e642a8d4af3a",
        "id": "RRooLoBZdx7h"
      },
      "outputs": [],
      "source": [
        "plt.hist(train['SalePrice'],orientation = 'vertical',histtype = 'bar', color ='blue')\n",
        "plt.show()"
      ]
    },
    {
      "cell_type": "code",
      "execution_count": null,
      "metadata": {
        "_cell_guid": "6ffde378-b902-4d49-962f-3c9c015319c4",
        "_kg_hide-input": true,
        "_uuid": "b2ca045af9133550236376c79f5c254926fbc371",
        "id": "81R-HMzHdx7i"
      },
      "outputs": [],
      "source": [
        "target = np.log(train['SalePrice'])\n",
        "target.skew()\n",
        "plt.hist(target,color='blue')"
      ]
    },
    {
      "cell_type": "markdown",
      "metadata": {
        "_uuid": "ceb967ad93761c0c4b284bfb8ac53ed6bf8c5fbf",
        "id": "cpSwh4mQdx7i"
      },
      "source": [
        "Finding Correlation coefficients between numeric features and SalePrice"
      ]
    },
    {
      "cell_type": "code",
      "execution_count": null,
      "metadata": {
        "_cell_guid": "dbbf9c71-d0c3-49cb-a023-43191e144ff0",
        "_kg_hide-input": true,
        "_uuid": "bd79daafb27e304d3f4d516a61d43ba05860b620",
        "id": "dDMf7_kzdx7i"
      },
      "outputs": [],
      "source": [
        "correlation = numeric_features.corr()\n",
        "print(correlation['SalePrice'].sort_values(ascending = False),'\\n')"
      ]
    },
    {
      "cell_type": "markdown",
      "metadata": {
        "_cell_guid": "20168dd5-0687-44c9-b8eb-215ad2f73546",
        "_uuid": "698f7d6b7579b585de6c1cec507283559eaedb39",
        "id": "hTB8Cquhdx7j"
      },
      "source": [
        "To explore further we will start with the following visualisation methods to analyze the data better:\n",
        "\n",
        " - Correlation Heat Map\n",
        " - Zoomed Heat Map\n",
        " - Pair Plot\n",
        " - Scatter Plot"
      ]
    },
    {
      "cell_type": "markdown",
      "metadata": {
        "_cell_guid": "6d007b6d-d449-4640-a4e6-14b6bf363157",
        "_uuid": "d8aea7cf094d562f868240b7ce1df7526b6df27b",
        "id": "vHKg4BwOdx7j"
      },
      "source": [
        "### Correlation Heat Map"
      ]
    },
    {
      "cell_type": "code",
      "execution_count": null,
      "metadata": {
        "_cell_guid": "f9b804c1-83bd-4235-9694-c7f3f5bcaeef",
        "_kg_hide-input": true,
        "_uuid": "1a744afad01b1cd57c0af57ccde8970659d511d9",
        "id": "p7qqnuBQdx7j"
      },
      "outputs": [],
      "source": [
        "f , ax = plt.subplots(figsize = (14,12))\n",
        "\n",
        "plt.title('Correlation of Numeric Features with Sale Price',y=1,size=16)\n",
        "\n",
        "sns.heatmap(correlation,square = True,  vmax=0.8)"
      ]
    },
    {
      "cell_type": "markdown",
      "metadata": {
        "_cell_guid": "24ff5221-2b85-43cf-b7c3-9426ab7ab702",
        "_uuid": "42c198a3246944045a13b78fbd75fcfa0c3212e0",
        "id": "IY3Z0RUVdx7j"
      },
      "source": [
        "The heatmap is the best way to get a quick overview of correlated features thanks to seaborn!\n",
        "\n",
        "At initial glance it is observed that there are two red colored squares that get my attention.\n",
        "1. The first one refers to the 'TotalBsmtSF' and '1stFlrSF' variables.\n",
        "2. Second one refers to the 'GarageX' variables.\n",
        "Both cases show how significant the correlation is between these variables. Actually, this correlation is so strong that it can indicate a situation of multicollinearity. If we think about these variables, we can conclude that they give almost the same information so multicollinearity really occurs.\n",
        "\n",
        "Heatmaps are great to detect this kind of multicollinearity situations and in problems related to feature selection like this project, it comes as an excellent exploratory tool.\n",
        "\n",
        "Another aspect I observed here is the 'SalePrice' correlations.As it is observed that 'GrLivArea', 'TotalBsmtSF', and 'OverallQual' saying a big 'Hello !' to SalePrice, however we cannot exclude the fact that rest of the features have some level of correlation to the SalePrice. To observe this correlation closer let us see it in Zoomed Heat Map"
      ]
    },
    {
      "cell_type": "markdown",
      "metadata": {
        "_cell_guid": "f0871353-66ad-4f22-b91c-96044d0e5481",
        "_uuid": "95f708be7785c2b8a8ecf80f8b2a39bb4432519d",
        "id": "g1tqzPtidx7k"
      },
      "source": [
        "### Zoomed HeatMap"
      ]
    },
    {
      "cell_type": "markdown",
      "metadata": {
        "_cell_guid": "5cd75c1b-0c69-4fd2-b11b-cb29e6c286bc",
        "_uuid": "635775b5fdfeedde3783481ab13db972b94de0c8",
        "id": "P7SQG1Fldx7k"
      },
      "source": [
        "#### SalePrice Correlation matrix"
      ]
    },
    {
      "cell_type": "code",
      "execution_count": null,
      "metadata": {
        "_cell_guid": "8ba97896-3cbf-44fb-ac16-9a2517d6d9ab",
        "_kg_hide-input": true,
        "_uuid": "5848fde3e986b422974d37ea087296a1e1cddc12",
        "id": "GP_2CJkRdx7l"
      },
      "outputs": [],
      "source": [
        "k= 11\n",
        "cols = correlation.nlargest(k,'SalePrice')['SalePrice'].index\n",
        "print(cols)\n",
        "cm = np.corrcoef(train[cols].values.T)\n",
        "f , ax = plt.subplots(figsize = (14,12))\n",
        "sns.heatmap(cm, vmax=.8, linewidths=0.01,square=True,annot=True,cmap='viridis',\n",
        "            linecolor=\"white\",xticklabels = cols.values ,annot_kws = {'size':12},yticklabels = cols.values)"
      ]
    },
    {
      "cell_type": "markdown",
      "metadata": {
        "_cell_guid": "b01f8a5e-4689-4bff-b97b-c21c3a4974cc",
        "_uuid": "6ea895154c10479468984db37b050544311ce410",
        "collapsed": true,
        "id": "8qfR8O5adx7m"
      },
      "source": [
        "From above zoomed heatmap it is observed that GarageCars & GarageArea are closely correlated .\n",
        "Similarly TotalBsmtSF and 1stFlrSF are also closely correlated.\n"
      ]
    },
    {
      "cell_type": "markdown",
      "metadata": {
        "_cell_guid": "0343c9d9-3d94-4e4c-9ed5-8bf96c0b7462",
        "_uuid": "427d762d8bfc7b0c1a070c8af8fa5ffb5cacfd9e",
        "id": "GozadFk6dx7m"
      },
      "source": [
        "My observations :\n",
        "- 'OverallQual', 'GrLivArea' and 'TotalBsmtSF' are strongly correlated with 'SalePrice'.\n",
        "- 'GarageCars' and 'GarageArea' are strongly correlated variables. It is because the number of cars that fit into the garage is a consequence of the garage area. 'GarageCars' and 'GarageArea' are like twin brothers. So it is hard to distinguish between the two. Therefore, we just need one of these variables in our analysis (we can keep 'GarageCars' since its correlation with 'SalePrice' is higher).\n",
        "- 'TotalBsmtSF' and '1stFloor' also seem to be twins. In this case let us keep 'TotalBsmtSF'\n",
        "- 'TotRmsAbvGrd' and 'GrLivArea', twins\n",
        "- 'YearBuilt' it appears like is slightly correlated with 'SalePrice'. This required more analysis to arrive at a conclusion may be do some time series analysis."
      ]
    },
    {
      "cell_type": "markdown",
      "metadata": {
        "_cell_guid": "ec280fdc-f6ab-48d8-b723-2637aca1afa3",
        "_uuid": "fded2e7c2b24ad961bac1cb4011c09c30615546c",
        "id": "NGREt4S5dx7m"
      },
      "source": [
        "### Pair Plot"
      ]
    },
    {
      "cell_type": "markdown",
      "metadata": {
        "_cell_guid": "150475ce-d659-4ec4-a22b-b41fcb1a3df7",
        "_uuid": "1253a7ddca03e7f5a8af5c926ae8e4a364adc117",
        "id": "hX5urzPjdx7m"
      },
      "source": [
        "#### Pair Plot between 'SalePrice' and correlated variables"
      ]
    },
    {
      "cell_type": "markdown",
      "metadata": {
        "_cell_guid": "6831c356-56dd-4d82-bdbf-a6120e2af11e",
        "_uuid": "a4b34c774f9695a85377ae4608804c42cec57161",
        "id": "us6K4KR3dx7n"
      },
      "source": [
        "Visualisation of 'OverallQual','TotalBsmtSF','GrLivArea','GarageArea','FullBath','YearBuilt','YearRemodAdd' features\n",
        "with respect to SalePrice in the form of pair plot & scatter pair plot for better understanding."
      ]
    },
    {
      "cell_type": "code",
      "execution_count": null,
      "metadata": {
        "_cell_guid": "383a3200-5802-49ed-b6fd-746d9a6b72f2",
        "_kg_hide-input": true,
        "_uuid": "0b4f4ab3c201e33d16548220f99ddd86b22fc946",
        "id": "v5ITH0FUdx7n"
      },
      "outputs": [],
      "source": [
        "sns.set()\n",
        "columns = ['SalePrice','OverallQual','TotalBsmtSF','GrLivArea','GarageArea','FullBath','YearBuilt','YearRemodAdd']\n",
        "sns.pairplot(train[columns],size = 2 ,kind ='scatter',diag_kind='kde')\n",
        "plt.show()"
      ]
    },
    {
      "cell_type": "markdown",
      "metadata": {
        "_cell_guid": "75ec0607-5082-4a93-868e-e5eba8050212",
        "_uuid": "e1fbc826ab1d617374d99b4e8a8ca986ec13a86c",
        "id": "zo1rp7T-dx7n"
      },
      "source": [
        "Although we already know some of the main figures, this pair plot gives us a reasonable overview insight about the correlated features .Here are some of my analysis.\n",
        "\n",
        "- One interesting observation is between 'TotalBsmtSF' and 'GrLiveArea'. In this figure we can see the dots drawing a linear line, which almost acts like a border. It totally makes sense that the majority of the dots stay below that line. Basement areas can be equal to the above ground living area, but it is not expected a basement area bigger than the above ground living area.\n",
        "\n",
        "- One more interesting observation is between 'SalePrice' and 'YearBuilt'. In the bottom of the 'dots cloud', we see what almost appears to be a exponential function.We can also see this same tendency in the upper limit of the 'dots cloud'\n",
        "- Last observation is that prices are increasing faster now with respect to previous years."
      ]
    },
    {
      "cell_type": "markdown",
      "metadata": {
        "_cell_guid": "43b47970-824c-458d-bbd7-f3ba58ca3f0a",
        "_uuid": "a40d73b95e6b08a71737f9c0ed0343bac0f7a48b",
        "id": "FJc-1B4Pdx7n"
      },
      "source": [
        "### Scatter Plot"
      ]
    },
    {
      "cell_type": "markdown",
      "metadata": {
        "_cell_guid": "e9eaeb17-9db7-4ff0-a226-787b656ecfef",
        "_uuid": "c90d0665f88e3cdb7e82a87de320f7e20bb0f8c7",
        "id": "p1-bp4qddx7o"
      },
      "source": [
        "#### Scatter plots between the most correlated variables"
      ]
    },
    {
      "cell_type": "code",
      "execution_count": null,
      "metadata": {
        "_cell_guid": "45663c67-1cf7-43b6-9bf2-05c29f40cd31",
        "_kg_hide-input": true,
        "_uuid": "ae2c3cf922aeb7e5adc010d421f9b76cf6c729a8",
        "id": "j7gYYNbadx7o"
      },
      "outputs": [],
      "source": [
        "fig, ((ax1, ax2), (ax3, ax4),(ax5,ax6)) = plt.subplots(nrows=3, ncols=2, figsize=(14,10))\n",
        "OverallQual_scatter_plot = pd.concat([train['SalePrice'],train['OverallQual']],axis = 1)\n",
        "sns.regplot(x='OverallQual',y = 'SalePrice',data = OverallQual_scatter_plot,scatter= True, fit_reg=True, ax=ax1)\n",
        "TotalBsmtSF_scatter_plot = pd.concat([train['SalePrice'],train['TotalBsmtSF']],axis = 1)\n",
        "sns.regplot(x='TotalBsmtSF',y = 'SalePrice',data = TotalBsmtSF_scatter_plot,scatter= True, fit_reg=True, ax=ax2)\n",
        "GrLivArea_scatter_plot = pd.concat([train['SalePrice'],train['GrLivArea']],axis = 1)\n",
        "sns.regplot(x='GrLivArea',y = 'SalePrice',data = GrLivArea_scatter_plot,scatter= True, fit_reg=True, ax=ax3)\n",
        "GarageArea_scatter_plot = pd.concat([train['SalePrice'],train['GarageArea']],axis = 1)\n",
        "sns.regplot(x='GarageArea',y = 'SalePrice',data = GarageArea_scatter_plot,scatter= True, fit_reg=True, ax=ax4)\n",
        "FullBath_scatter_plot = pd.concat([train['SalePrice'],train['FullBath']],axis = 1)\n",
        "sns.regplot(x='FullBath',y = 'SalePrice',data = FullBath_scatter_plot,scatter= True, fit_reg=True, ax=ax5)\n",
        "YearBuilt_scatter_plot = pd.concat([train['SalePrice'],train['YearBuilt']],axis = 1)\n",
        "sns.regplot(x='YearBuilt',y = 'SalePrice',data = YearBuilt_scatter_plot,scatter= True, fit_reg=True, ax=ax6)\n",
        "YearRemodAdd_scatter_plot = pd.concat([train['SalePrice'],train['YearRemodAdd']],axis = 1)\n",
        "YearRemodAdd_scatter_plot.plot.scatter('YearRemodAdd','SalePrice')"
      ]
    },
    {
      "cell_type": "code",
      "execution_count": null,
      "metadata": {
        "_cell_guid": "fbfae625-5530-4f4d-9bff-2753f97a4852",
        "_kg_hide-input": true,
        "_uuid": "73861f54ca9258a0436a883652e8ff7ae01abb67",
        "id": "YGRa7fEgdx7o"
      },
      "outputs": [],
      "source": [
        "saleprice_overall_quality= train.pivot_table(index ='OverallQual',values = 'SalePrice', aggfunc = np.median)\n",
        "saleprice_overall_quality.plot(kind = 'bar',color = 'blue')\n",
        "plt.xlabel('Overall Quality')\n",
        "plt.ylabel('Median Sale Price')\n",
        "plt.show()"
      ]
    },
    {
      "cell_type": "markdown",
      "metadata": {
        "_cell_guid": "60236389-7586-44ad-8cf9-6e653a25b77f",
        "_uuid": "bd4b5b7e35906a30705da6daeb2d9922fe58ec67",
        "id": "GudWw2jJdx7o"
      },
      "source": [
        "#### Box plot - OverallQual"
      ]
    },
    {
      "cell_type": "code",
      "execution_count": null,
      "metadata": {
        "_cell_guid": "11698815-d39a-430d-8f18-c4e6dd036309",
        "_kg_hide-input": true,
        "_uuid": "1215daae5c679efa0a3c105df6c0a242a4bdb702",
        "id": "cLcNdG_sdx7p"
      },
      "outputs": [],
      "source": [
        "var = 'OverallQual'\n",
        "data = pd.concat([train['SalePrice'], train[var]], axis=1)\n",
        "f, ax = plt.subplots(figsize=(12, 8))\n",
        "fig = sns.boxplot(x=var, y=\"SalePrice\", data=data)\n",
        "fig.axis(ymin=0, ymax=800000);"
      ]
    },
    {
      "cell_type": "markdown",
      "metadata": {
        "_cell_guid": "5e4fe63b-957f-4e79-a182-922ce8a0b956",
        "_uuid": "390620a2d3da51cf5a6a3b4b7aa46b7c1888b829",
        "id": "XFFmEvyrdx7p"
      },
      "source": [
        "#### Box plot - Neighborhood"
      ]
    },
    {
      "cell_type": "code",
      "execution_count": null,
      "metadata": {
        "_cell_guid": "9eb4c2c7-3e14-415a-bdcf-329b2d86dce1",
        "_kg_hide-input": true,
        "_uuid": "424a71f9cd47d3ce53c71031faf5ef55977e1c96",
        "id": "CZfjWh27dx7p"
      },
      "outputs": [],
      "source": [
        "var = 'Neighborhood'\n",
        "data = pd.concat([train['SalePrice'], train[var]], axis=1)\n",
        "f, ax = plt.subplots(figsize=(16, 10))\n",
        "fig = sns.boxplot(x=var, y=\"SalePrice\", data=data)\n",
        "fig.axis(ymin=0, ymax=800000);\n",
        "xt = plt.xticks(rotation=45)"
      ]
    },
    {
      "cell_type": "markdown",
      "metadata": {
        "_cell_guid": "d8b8f23f-4290-424d-b682-9f964a2fb777",
        "_uuid": "254284900b923766383e6c9861dfe76f20b64f86",
        "id": "UiKndbLwdx7q"
      },
      "source": [
        "#### Count Plot - Neighborhood"
      ]
    },
    {
      "cell_type": "code",
      "execution_count": null,
      "metadata": {
        "_cell_guid": "a7250493-ede0-44bc-9b76-1b19a3c5a802",
        "_kg_hide-input": true,
        "_uuid": "a03e71cb47f79fa9146ac63749855ca7f0fd9ba9",
        "id": "gWlEgx_9dx7q"
      },
      "outputs": [],
      "source": [
        "plt.figure(figsize = (12, 6))\n",
        "sns.countplot(x = 'Neighborhood', data = data)\n",
        "xt = plt.xticks(rotation=45)"
      ]
    },
    {
      "cell_type": "markdown",
      "metadata": {
        "_cell_guid": "21406571-4ba7-46df-a2ef-81dba70c4752",
        "_uuid": "32ab0ec5151ab637a9291ec04b8d216d761d8f37",
        "id": "IsSnBGQrdx7q"
      },
      "source": [
        "Based on the above observation can group those Neighborhoods with similar housing price into a same bucket for dimension-reduction.Let us see this in the preprocessing stage"
      ]
    },
    {
      "cell_type": "markdown",
      "metadata": {
        "_cell_guid": "03438145-f701-4be6-8013-5500928176e8",
        "_uuid": "201a4bc17ec51a8be7a15e516c16d65ba29fc169",
        "id": "XG16hVZGdx7q"
      },
      "source": [
        "With qualitative variables we can check distribution of SalePrice with respect to variable values and enumerate them."
      ]
    },
    {
      "cell_type": "code",
      "execution_count": null,
      "metadata": {
        "_cell_guid": "81fd3e3f-3904-43a1-943b-aac1d3491916",
        "_kg_hide-input": true,
        "_uuid": "4739c0cbd884a218c66f30d4542e734f7907e640",
        "id": "3gbMpLUndx7q"
      },
      "outputs": [],
      "source": [
        "for c in categorical_features:\n",
        "    train[c] = train[c].astype('category')\n",
        "    if train[c].isnull().any():\n",
        "        train[c] = train[c].cat.add_categories(['MISSING'])\n",
        "        train[c] = train[c].fillna('MISSING')\n",
        "\n",
        "def boxplot(x, y, **kwargs):\n",
        "    sns.boxplot(x=x, y=y)\n",
        "    x=plt.xticks(rotation=90)\n",
        "f = pd.melt(train, id_vars=['SalePrice'], value_vars=categorical_features)\n",
        "g = sns.FacetGrid(f, col=\"variable\",  col_wrap=2, sharex=False, sharey=False, size=5)\n",
        "g = g.map(boxplot, \"value\", \"SalePrice\")"
      ]
    },
    {
      "cell_type": "markdown",
      "metadata": {
        "_cell_guid": "aee8b813-e950-44a1-b168-fabdd3129304",
        "_uuid": "aee82ff9b9161e3f2c3d12d6e43d2cc9b7b205ed",
        "id": "tyyMGriDdx7r"
      },
      "source": [
        "#### Housing Price vs Sales\n",
        "\n",
        "- Sale Type & Condition\n",
        "- Sales Seasonality"
      ]
    },
    {
      "cell_type": "code",
      "execution_count": null,
      "metadata": {
        "_cell_guid": "92da604e-2e8d-44d6-9b34-ef7d6031699a",
        "_kg_hide-input": true,
        "_uuid": "3fc4c95558d65bc83b46678662d8e8daaf319b4f",
        "id": "oelHTBw9dx7r"
      },
      "outputs": [],
      "source": [
        "var = 'SaleType'\n",
        "data = pd.concat([train['SalePrice'], train[var]], axis=1)\n",
        "f, ax = plt.subplots(figsize=(16, 10))\n",
        "fig = sns.boxplot(x=var, y=\"SalePrice\", data=data)\n",
        "fig.axis(ymin=0, ymax=800000);\n",
        "xt = plt.xticks(rotation=45)"
      ]
    },
    {
      "cell_type": "code",
      "execution_count": null,
      "metadata": {
        "_cell_guid": "843a1c07-489c-463b-acdc-083fb8583c7c",
        "_kg_hide-input": true,
        "_uuid": "1516987a7463f4e9578e35b9597ff256c8489b7b",
        "id": "ZufFX485dx7r"
      },
      "outputs": [],
      "source": [
        "var = 'SaleCondition'\n",
        "\n",
        "data = pd.concat([train['SalePrice'], train[var]], axis=1)\n",
        "\n",
        "f, ax = plt.subplots(figsize=(16, 10))\n",
        "\n",
        "fig = sns.boxplot(x=var, y=\"SalePrice\", data=data)\n",
        "\n",
        "fig.axis(ymin=0, ymax=800000);\n",
        "\n",
        "xt = plt.xticks(rotation=45)"
      ]
    },
    {
      "cell_type": "markdown",
      "metadata": {
        "_cell_guid": "6611f2ab-b7a2-43e4-b3e6-21e14fe73d6b",
        "_uuid": "f9e232f36eaf38aec59a185721ad309184e58a35",
        "id": "ZwUyAQsydx7r"
      },
      "source": [
        "#### ViolinPlot - Functional vs.SalePrice"
      ]
    },
    {
      "cell_type": "code",
      "execution_count": null,
      "metadata": {
        "_cell_guid": "5b83f3d8-167b-48ef-b883-f6b0173da8ce",
        "_kg_hide-input": true,
        "_uuid": "7d80483177d6cf19ee309de7bb1ee2e578683abc",
        "id": "6kQceZ1Tdx7r"
      },
      "outputs": [],
      "source": [
        "sns.violinplot('Functional', 'SalePrice', data = train)"
      ]
    },
    {
      "cell_type": "markdown",
      "metadata": {
        "_cell_guid": "453e3071-bb14-4ac0-86b0-10593d22e86e",
        "_uuid": "3efd140248ee17945535011b1cfd15d1cde3a426",
        "id": "w6LNMgDbdx7r"
      },
      "source": [
        "#### FactorPlot - FirePlaceQC vs. SalePrice"
      ]
    },
    {
      "cell_type": "code",
      "execution_count": null,
      "metadata": {
        "_cell_guid": "ef68a2a8-5bb2-4eb9-a29e-621c125a5e1c",
        "_kg_hide-input": true,
        "_uuid": "3bf775a79da18322e9c21e29753b921c77fee41f",
        "id": "OfGb5L7Xdx7s"
      },
      "outputs": [],
      "source": [
        "sns.factorplot('FireplaceQu', 'SalePrice', data = train, color = 'm', \\\n",
        "               estimator = np.median, order = ['Ex', 'Gd', 'TA', 'Fa', 'Po'], size = 4.5,  aspect=1.35)"
      ]
    },
    {
      "cell_type": "markdown",
      "metadata": {
        "_cell_guid": "0062044d-f41c-47ba-ad30-cd860078f754",
        "_uuid": "3413a2066e3c1a32b2f7606c3697456238df7e2c",
        "id": "uikdkCZtdx7s"
      },
      "source": [
        "#### Facet Grid Plot - FirePlace QC vs.SalePrice"
      ]
    },
    {
      "cell_type": "code",
      "execution_count": null,
      "metadata": {
        "_cell_guid": "5f6bf958-7362-4ac3-ae0d-8a46d91bd56b",
        "_kg_hide-input": true,
        "_uuid": "1dacec820db8f4ec7df6ef1b77d9da374e6eeee6",
        "id": "FvST5vbwdx7s"
      },
      "outputs": [],
      "source": [
        "g = sns.FacetGrid(train, col = 'FireplaceQu', col_wrap = 3, col_order=['Ex', 'Gd', 'TA', 'Fa', 'Po'])\n",
        "g.map(sns.boxplot, 'Fireplaces', 'SalePrice', order = [1, 2, 3], palette = 'Set2')"
      ]
    },
    {
      "cell_type": "markdown",
      "metadata": {
        "_cell_guid": "696f66a2-ed1e-40d7-8064-57d37ade15ac",
        "_uuid": "eb521993857e316c212e5568f171ed4fa291cc3f",
        "id": "fG6NCGEodx7s"
      },
      "source": [
        "#### PointPlot"
      ]
    },
    {
      "cell_type": "code",
      "execution_count": null,
      "metadata": {
        "_cell_guid": "b3994d3d-9d7f-4b37-b5f6-fae73c02b769",
        "_kg_hide-input": true,
        "_uuid": "720a7ea3951edfdfd86767ab9420104699ad96b9",
        "id": "c-3JzlPFdx7s"
      },
      "outputs": [],
      "source": [
        "plt.figure(figsize=(8,10))\n",
        "g1 = sns.pointplot(x='Neighborhood', y='SalePrice',\n",
        "                   data=train, hue='LotShape')\n",
        "g1.set_xticklabels(g1.get_xticklabels(),rotation=90)\n",
        "g1.set_title(\"Lotshape Based on Neighborhood\", fontsize=15)\n",
        "g1.set_xlabel(\"Neighborhood\")\n",
        "g1.set_ylabel(\"Sale Price\", fontsize=12)\n",
        "plt.show()"
      ]
    },
    {
      "cell_type": "markdown",
      "metadata": {
        "_cell_guid": "723e62e1-39a8-4ee7-8835-627f4958c34f",
        "_uuid": "f88212e983f09c980452733f5debde9e44d80794",
        "collapsed": true,
        "id": "4KG7MnF-dx7t"
      },
      "source": [
        " ### Missing Value Analysis\n",
        "\n",
        " #### Numeric Features"
      ]
    },
    {
      "cell_type": "code",
      "execution_count": null,
      "metadata": {
        "_cell_guid": "670ed815-9b92-4309-bad6-0b8722339e9b",
        "_kg_hide-input": true,
        "_uuid": "385f4d83f07bb6fc42b27aa4a39e86e4805cc002",
        "id": "ZQ7lmixadx7t"
      },
      "outputs": [],
      "source": [
        "total = numeric_features.isnull().sum().sort_values(ascending=False)\n",
        "percent = (numeric_features.isnull().sum()/numeric_features.isnull().count()).sort_values(ascending=False)\n",
        "missing_data = pd.concat([total, percent], axis=1,join='outer', keys=['Total Missing Count', '% of Total Observations'])\n",
        "missing_data.index.name =' Numeric Feature'\n",
        "\n",
        "missing_data.head(20)"
      ]
    },
    {
      "cell_type": "markdown",
      "metadata": {
        "_cell_guid": "e1c061c9-d91f-45e1-b200-ef3e46fade4e",
        "_uuid": "ed073e558ce356c3df9669d251ee08e40e55e994",
        "id": "JWULX6tVdx7t"
      },
      "source": [
        "#### Missing values for all numeric features in Bar chart Representation"
      ]
    },
    {
      "cell_type": "code",
      "execution_count": null,
      "metadata": {
        "_cell_guid": "d6af5aff-c211-485e-96ae-b10dc7b49a47",
        "_kg_hide-input": true,
        "_uuid": "3ca9eb09871f603575b7387b3c8b5594e97caf09",
        "id": "xQ4GJ-lLdx7t"
      },
      "outputs": [],
      "source": [
        "missing_values = numeric_features.isnull().sum(axis=0).reset_index()\n",
        "missing_values.columns = ['column_name', 'missing_count']\n",
        "missing_values = missing_values.loc[missing_values['missing_count']>0]\n",
        "missing_values = missing_values.sort_values(by='missing_count')\n",
        "\n",
        "ind = np.arange(missing_values.shape[0])\n",
        "width = 0.1\n",
        "fig, ax = plt.subplots(figsize=(12,3))\n",
        "rects = ax.barh(ind, missing_values.missing_count.values, color='b')\n",
        "ax.set_yticks(ind)\n",
        "ax.set_yticklabels(missing_values.column_name.values, rotation='horizontal')\n",
        "ax.set_xlabel(\"Missing Observations Count\")\n",
        "ax.set_title(\"Missing Observations Count - Numeric Features\")\n",
        "plt.show()\n"
      ]
    },
    {
      "cell_type": "markdown",
      "metadata": {
        "_cell_guid": "26b22480-6458-45fe-b084-1f3baad48e80",
        "_uuid": "d685e3462dca3e5fdf621a23a38370ec4f344793",
        "id": "9130LU06dx7t"
      },
      "source": [
        "#### Categorical Features"
      ]
    },
    {
      "cell_type": "code",
      "execution_count": null,
      "metadata": {
        "_cell_guid": "f05b1afc-d461-4ca9-a99d-bb9e8cfcfb03",
        "_kg_hide-input": true,
        "_uuid": "17c5c29c76b65f60d60dc2c70bc0b2fe97a4e161",
        "id": "TrOkVlx8dx7u"
      },
      "outputs": [],
      "source": [
        "total = categorical_features.isnull().sum().sort_values(ascending=False)\n",
        "percent = (categorical_features.isnull().sum()/categorical_features.isnull().count()).sort_values(ascending=False)\n",
        "missing_data = pd.concat([total, percent], axis=1,join='outer', keys=['Total Missing Count', ' % of Total Observations'])\n",
        "missing_data.index.name ='Feature'\n",
        "missing_data.head(20)"
      ]
    },
    {
      "cell_type": "markdown",
      "metadata": {
        "_cell_guid": "418f6df4-029d-474e-9e04-d01fd2e7cf13",
        "_uuid": "a9ab4c6dec56c45f57c1215be20d4e2a5c897f41",
        "id": "SkyIZVpqdx7u"
      },
      "source": [
        "#### Missing values for  Categorical features in Bar chart Representation"
      ]
    },
    {
      "cell_type": "code",
      "execution_count": null,
      "metadata": {
        "_cell_guid": "3143b910-b3ea-437c-a461-2e48879ef861",
        "_kg_hide-input": true,
        "_uuid": "b299712333d51888e872d43a35f494c89d2b2545",
        "id": "YBY3zb6_dx7u"
      },
      "outputs": [],
      "source": [
        "missing_values = categorical_features.isnull().sum(axis=0).reset_index()\n",
        "missing_values.columns = ['column_name', 'missing_count']\n",
        "missing_values = missing_values.loc[missing_values['missing_count']>0]\n",
        "missing_values = missing_values.sort_values(by='missing_count')\n",
        "\n",
        "ind = np.arange(missing_values.shape[0])\n",
        "width = 0.9\n",
        "fig, ax = plt.subplots(figsize=(12,18))\n",
        "rects = ax.barh(ind, missing_values.missing_count.values, color='red')\n",
        "ax.set_yticks(ind)\n",
        "ax.set_yticklabels(missing_values.column_name.values, rotation='horizontal')\n",
        "ax.set_xlabel(\"Missing Observations Count\")\n",
        "ax.set_title(\"Missing Observations Count - Categorical Features\")\n",
        "plt.show()"
      ]
    },
    {
      "cell_type": "markdown",
      "metadata": {
        "_cell_guid": "d51705f6-0273-48c8-99aa-a0e20bcf274d",
        "_uuid": "ed30cd6e9cc3465fd9c68585db98bdefbafc9df8",
        "id": "uxpLafQqdx7u"
      },
      "source": [
        "### Categorical Feature Exploration"
      ]
    },
    {
      "cell_type": "code",
      "execution_count": null,
      "metadata": {
        "_cell_guid": "909af378-cab0-4571-bb6b-95b46c54cd91",
        "_kg_hide-input": true,
        "_uuid": "eeb1f5e669ee8e4fe9ba3f60ae17cf364c87025e",
        "id": "NPeneVJUdx7u"
      },
      "outputs": [],
      "source": [
        "for column_name in train.columns:\n",
        "    if train[column_name].dtypes == 'object':\n",
        "        train[column_name] = train[column_name].fillna(train[column_name].mode().iloc[0])\n",
        "        unique_category = len(train[column_name].unique())\n",
        "        print(\"Feature '{column_name}' has '{unique_category}' unique categories\".format(column_name = column_name,\n",
        "                                                                                         unique_category=unique_category))\n",
        "\n",
        "for column_name in test.columns:\n",
        "    if test[column_name].dtypes == 'object':\n",
        "        test[column_name] = test[column_name].fillna(test[column_name].mode().iloc[0])\n",
        "        unique_category = len(test[column_name].unique())\n",
        "        print(\"Features in test set '{column_name}' has '{unique_category}' unique categories\".format(column_name = column_name, unique_category=unique_category))"
      ]
    }
  ],
  "metadata": {
    "kernelspec": {
      "display_name": "Python 3",
      "language": "python",
      "name": "python3"
    },
    "language_info": {
      "codemirror_mode": {
        "name": "ipython",
        "version": 3
      },
      "file_extension": ".py",
      "mimetype": "text/x-python",
      "name": "python",
      "nbconvert_exporter": "python",
      "pygments_lexer": "ipython3",
      "version": "3.12.2"
    },
    "colab": {
      "provenance": []
    }
  },
  "nbformat": 4,
  "nbformat_minor": 0
}